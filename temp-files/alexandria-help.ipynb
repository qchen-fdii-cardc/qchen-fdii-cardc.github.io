{
 "cells": [
  {
   "cell_type": "code",
   "execution_count": null,
   "metadata": {
    "vscode": {
     "languageId": "commonlisp"
    }
   },
   "outputs": [],
   "source": [
    "## 真正排名第一的库到底是谁？\n",
    "\n"
   ]
  },
  {
   "cell_type": "code",
   "execution_count": 34,
   "metadata": {
    "vscode": {
     "languageId": "commonlisp"
    }
   },
   "outputs": [
    {
     "data": {
      "text/plain": [
       "T"
      ]
     },
     "execution_count": 34,
     "metadata": {},
     "output_type": "execute_result"
    }
   ],
   "source": [
    "(progn \n",
    "    (require 'quicklisp-stats) ; load the library\n",
    "    (quicklisp-stats:all) ; get all stats\n",
    "    t)"
   ]
  },
  {
   "cell_type": "code",
   "execution_count": 44,
   "metadata": {
    "vscode": {
     "languageId": "commonlisp"
    }
   },
   "outputs": [
    {
     "data": {
      "text/plain": [
       "((1 \"alexandria\" . 17142) (2 \"alexandria\" . 14947) (3 \"alexandria\" . 17418)\n",
       " (4 \"alexandria\" . 18020) (5 \"alexandria\" . 17734) (6 \"alexandria\" . 16371)\n",
       " (7 \"alexandria\" . 20795) (8 \"alexandria\" . 21347) (9 \"alexandria\" . 22624))"
      ]
     },
     "execution_count": 44,
     "metadata": {},
     "output_type": "execute_result"
    }
   ],
   "source": [
    "(let* ((months '(1 2 3 4 5 6 7 8 9))\n",
    "    (tops (loop for month in months\n",
    "        collect (cons month (car (quicklisp-stats:month 2024 month))))))\n",
    "    tops)"
   ]
  },
  {
   "cell_type": "markdown",
   "metadata": {},
   "source": [
    "## "
   ]
  },
  {
   "cell_type": "code",
   "execution_count": 49,
   "metadata": {
    "vscode": {
     "languageId": "commonlisp"
    }
   },
   "outputs": [
    {
     "name": "stdout",
     "output_type": "stream",
     "text": [
      "COMMON-LISP:FIRST\n",
      "  [symbol]\n",
      "\n",
      "FIRST names a compiled function:\n",
      "  Lambda-list: (LIST)\n",
      "  Declared type: (FUNCTION (LIST) (VALUES T &OPTIONAL))\n",
      "  Documentation:\n",
      "    Return the 1st object in a list or NIL if the list is empty.\n",
      "  Known attributes: foldable, flushable, unsafely-flushable\n",
      "  Source file: SYS:SRC;CODE;LIST.LISP\n",
      "\n",
      "(SETF FIRST) names a compiled function:\n",
      "  Lambda-list: (NEWVAL LIST)\n",
      "  Derived type: (FUNCTION (T LIST) (VALUES T &OPTIONAL))\n",
      "  Inline proclamation: INLINE (inline expansion available)\n",
      "  Source file: SYS:SRC;CODE;SETF-FUNS.LISP\n",
      "\n",
      "(SETF FIRST) has setf-expansion: SB-KERNEL:%RPLACA\n"
     ]
    }
   ],
   "source": [
    "(describe 'first)\n",
    "\n",
    "; (quicklisp-stats:month 2024 09)"
   ]
  },
  {
   "cell_type": "markdown",
   "metadata": {},
   "source": [
    "## 真实库排名\n",
    "\n",
    "\n",
    "\n"
   ]
  },
  {
   "cell_type": "code",
   "execution_count": 32,
   "metadata": {
    "vscode": {
     "languageId": "commonlisp"
    }
   },
   "outputs": [
    {
     "data": {
      "text/plain": [
       "\"\""
      ]
     },
     "execution_count": 32,
     "metadata": {},
     "output_type": "execute_result"
    },
    {
     "data": {
      "text/plain": [
       "NIL"
      ]
     },
     "execution_count": 32,
     "metadata": {},
     "output_type": "execute_result"
    }
   ],
   "source": [
    "(let* ((data (loop for month from 1 to 9  collect (quicklisp-stats:system-downloads \"alexandria\" 2024 month)))\n",
    "        (index (vgplot:range 1 10 1)))\n",
    "    (vgplot:plot index data \";;with linespoints pt 7 ps 2 lc 'red' lw 3\")\n",
    "    (vgplot:xlabel \"Month\")\n",
    "    (vgplot:ylabel \"Downloads\")\n",
    "    (vgplot:title \"Alexandria downloads in 2024\")\n",
    "    (vgplot:print-plot #P\"alexandria.png\"))\n",
    "\n",
    "\n",
    "(vgplot:close-all-plots)\n"
   ]
  },
  {
   "cell_type": "code",
   "execution_count": 58,
   "metadata": {
    "vscode": {
     "languageId": "commonlisp"
    }
   },
   "outputs": [
    {
     "data": {
      "text/plain": [
       "TAKE"
      ]
     },
     "execution_count": 58,
     "metadata": {},
     "output_type": "execute_result"
    },
    {
     "name": "stdout",
     "output_type": "stream",
     "text": [
      "SB-KERNEL:REDEFINITION-WITH-DEFUN: redefining COMMON-LISP-USER::TAKE in DEFUN\n"
     ]
    }
   ],
   "source": [
    "(defun take (n lst)\n",
    "    (loop for i from 0 to (1- n) collect (nth i lst)))\n"
   ]
  },
  {
   "cell_type": "code",
   "execution_count": 59,
   "metadata": {
    "vscode": {
     "languageId": "commonlisp"
    }
   },
   "outputs": [
    {
     "data": {
      "text/plain": [
       "NIL"
      ]
     },
     "execution_count": 59,
     "metadata": {},
     "output_type": "execute_result"
    },
    {
     "name": "stdout",
     "output_type": "stream",
     "text": [
      "alexandria: 22624\n",
      "trivial-features: 20738\n",
      "trivial-gray-streams: 20217\n",
      "closer-mop: 19194\n",
      "trivial-garbage: 18612\n",
      "named-readtables: 18206\n",
      "mgl-pax: 18009\n",
      "cl-ppcre: 16866\n",
      "trivial-indent: 16574\n",
      "documentation-utils: 16572\n"
     ]
    }
   ],
   "source": [
    "\n",
    "(loop for name-count in (take 10 (quicklisp-stats:month 2024 09))\n",
    "    do (let ((name (car name-count))\n",
    "            (count (cdr name-count)))\n",
    "        (format t \"~a: ~a~%\" name count)))"
   ]
  },
  {
   "cell_type": "markdown",
   "metadata": {},
   "source": [
    "可以看到， 这个包的下载量还是非常高的。\n",
    "\n",
    "\n",
    "\n",
    "![](alexandria.png)"
   ]
  }
 ],
 "metadata": {
  "kernelspec": {
   "display_name": "Common Lisp",
   "language": "common-lisp",
   "name": "common-lisp"
  },
  "language_info": {
   "codemirror_mode": "text/x-common-lisp",
   "file_extension": ".lisp",
   "mimetype": "text/x-common-lisp",
   "name": "common-lisp",
   "pygments_lexer": "common-lisp",
   "version": "2.1.11.debian"
  }
 },
 "nbformat": 4,
 "nbformat_minor": 2
}
