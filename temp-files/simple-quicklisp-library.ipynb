{
 "cells": [
  {
   "cell_type": "markdown",
   "id": "03341fe5-79ea-442a-8ce9-ea7565d90ee8",
   "metadata": {},
   "source": [
    "## 白日梦先生的白日梦\n",
    "\n",
    "白日梦先生已经跟着大家一起学Lisp长达两个月零五天！\n",
    "\n",
    "1. [001 粗鲁先生Lisp再出发](/posts/001-rude-start-application/)\n",
    "2. [002 懒惰先生的Lisp开发流程](/posts/002-lazy-process/)\n",
    "3. [003 颠倒先生的数学表达式](/posts/003-lazy-process/)\n",
    "4. [004 完美先生的完美Lisp](/posts/004-perfect/)\n",
    "5. [005 好奇先生用Lisp来探索Lisp](/posts/005-explore-lisp/)\n",
    "6. [006 好奇先生在Lisp的花园里挖呀挖呀挖](/posts/006-sequence-in-lisp/)\n",
    "7. [007 挑剔先生给出终止迭代的条件](/posts/007-recursive-eq/)\n",
    "8. [008 挠痒痒先生建网站记](/posts/008-real-app/)\n",
    "9. [009 小小先生学习Lisp表达式](/posts/009-expression/)\n",
    "10. [010 聪明先生拒(ji)绝(xu)造轮子](/posts/010-smart-cl-classification/)\n",
    "11. [011 没人先生学习Lisp函数](/posts/011-functions.md)\n",
    "\n",
    "他已经能够：\n",
    "\n",
    "- 安装库文件、探索库函数、调用库函数\n",
    "- 定义函数、调用函数\n",
    "- 操纵列表\n",
    "- 递归、迭代\n",
    "- 表达式替换，表达式求值\n",
    "- 判断相等\n",
    "- 建立一个网站！！！\n",
    "\n",
    "白日梦先生自觉天下无敌，接下来呢？他想得很简单，那就是编一个`quicklisp`排名第一的库给大家用！\n",
    "\n",
    "> 梦想还是要有，万一实现了呢？\n",
    "\n",
    "这就是白日梦先生秉持的信念！\n",
    "\n",
    "## 头号敌人\n",
    "\n",
    "白日梦先生考虑好自己的目标，花了大概三个小时详细体验实现之后自己在知乎论坛、CSDN、博客园、大型交友网站上获得大量反馈的情景，再详细设计自己面对网友如潮的点赞、收藏、关注和评论之后的表情、语气、回复。\n",
    "\n",
    "然后，就没有然后了，因为白日梦先生他毕竟是白日梦先生，他只需要梦想，不需要现实。\n",
    "\n",
    "白日梦先生的头号敌人，名叫不可能先生。\n",
    "\n",
    "他哈哈大笑（他总是先哈哈大笑），对着白日梦先生说：做梦吧你，这不可能！\n",
    "\n",
    "![Quicklisp收录库链接](static/lisp-img/quicklisp-library.png)\n",
    "\n",
    "白日梦先生和不可能先生打开了`quicklisp`收录库链接\n",
    "\n",
    "[Quicklisp收录库链接](https://quicklisp.org/beta/releases.html)\n",
    "\n",
    "这个排名是按照`#'string<`函数的结果排序的，也就是按照字母顺序排序的。\n",
    "\n",
    "白日梦先生脸微微发热，心怦怦跳，难道，这一次的梦想真的能够实现？\n",
    "\n",
    "![Quicklisp收录库](static/lisp-img/quicklisp-release.png)\n",
    "\n",
    "\n",
    "那么很简单，只需要编一个库，取名为`0xxxx`，那么就可以排在目前排第一名的`1am`之前了！\n",
    "\n",
    "\n",
    "那么这个`1am`是什么呢？好奇先生已经停不住了。\n",
    "\n",
    "## **排名第一**的`1am`\n",
    "\n",
    "不管三七二十一，好奇先生先在REPL中输入命令，想看看这个库到底是什么。\n"
   ]
  },
  {
   "cell_type": "code",
   "execution_count": 7,
   "id": "93007fc2",
   "metadata": {
    "vscode": {
     "languageId": "plaintext"
    }
   },
   "outputs": [
    {
     "name": "stdout",
     "output_type": "stream",
     "text": [
      "To load \"1am\":\n",
      "  Load 1 ASDF system:\n",
      "    1am\n"
     ]
    },
    {
     "data": {
      "text/plain": [
       "(1AM)"
      ]
     },
     "execution_count": 7,
     "metadata": {},
     "output_type": "execute_result"
    },
    {
     "name": "stdout",
     "output_type": "stream",
     "text": [
      "; Loading \"1am\"\n",
      "\n"
     ]
    }
   ],
   "source": [
    "(ql:quickload '1am)"
   ]
  },
  {
   "cell_type": "markdown",
   "id": "e1cf91e9",
   "metadata": {},
   "source": [
    "可以看到，这个库定义了一个`ASDF`系统，名字叫`1am`。只要能够加载，好奇先生就能够为所欲为。   "
   ]
  },
  {
   "cell_type": "code",
   "execution_count": 8,
   "id": "9450fa49",
   "metadata": {
    "vscode": {
     "languageId": "plaintext"
    }
   },
   "outputs": [
    {
     "data": {
      "text/plain": [
       "NIL"
      ]
     },
     "execution_count": 8,
     "metadata": {},
     "output_type": "execute_result"
    },
    {
     "data": {
      "text/plain": [
       "((1AM:RUN 1AM:*TESTS* 1AM:SIGNALS 1AM:TEST 1AM:IS) 5)"
      ]
     },
     "execution_count": 8,
     "metadata": {},
     "output_type": "execute_result"
    }
   ],
   "source": [
    "(require 'explore-lisp)\n",
    "\n",
    "(multiple-value-list (el:dir '1am))"
   ]
  },
  {
   "cell_type": "markdown",
   "id": "5dfee878",
   "metadata": {},
   "source": [
    "只有区区五个符号，而且，看起来似乎是一个测试库。好奇先生猜测。\n",
    "\n",
    "这完全难不倒好奇先生，只要运行下面的命令，这个库的深浅或者长短就完全暴漏出来了呢！"
   ]
  },
  {
   "cell_type": "code",
   "execution_count": 9,
   "id": "334d12c3",
   "metadata": {
    "vscode": {
     "languageId": "plaintext"
    }
   },
   "outputs": [
    {
     "data": {
      "text/plain": [
       "NIL"
      ]
     },
     "execution_count": 9,
     "metadata": {},
     "output_type": "execute_result"
    }
   ],
   "source": [
    "(el:export-all-external-symbols '1am :start-level 2)"
   ]
  },
  {
   "cell_type": "markdown",
   "id": "b34f75d4",
   "metadata": {},
   "source": [
    "###  `*TESTS*`\n",
    "\n",
    "```lisp\n",
    "1AM:*TESTS*\n",
    "  [symbol]\n",
    "\n",
    "*TESTS* names a special variable:\n",
    "  Value: NIL\n",
    "  Documentation:\n",
    "    A list of tests; the default argument to `run'.\n",
    "```\n",
    "###  `IS`\n",
    "\n",
    "```lisp\n",
    "1AM:IS\n",
    "  [symbol]\n",
    "\n",
    "IS names a macro:\n",
    "  Lambda-list: (FORM)\n",
    "  Documentation:\n",
    "    Assert that `form' evaluates to non-nil.\n",
    "  Source file: /home/qchen/quicklisp/dists/quicklisp/software/1am-20141106-git/1am.lisp\n",
    "```\n",
    "###  `RUN`\n",
    "\n",
    "```lisp\n",
    "1AM:RUN\n",
    "  [symbol]\n",
    "\n",
    "RUN names a compiled function:\n",
    "  Lambda-list: (&OPTIONAL (TESTS *TESTS*))\n",
    "  Derived type: (FUNCTION (&OPTIONAL T) (VALUES &OPTIONAL))\n",
    "  Documentation:\n",
    "    Run each test in the sequence `tests'. Default is `*tests*'.\n",
    "  Source file: /home/qchen/quicklisp/dists/quicklisp/software/1am-20141106-git/1am.lisp\n",
    "```\n",
    "###  `SIGNALS`\n",
    "\n",
    "```lisp\n",
    "1AM:SIGNALS\n",
    "  [symbol]\n",
    "\n",
    "SIGNALS names a macro:\n",
    "  Lambda-list: (CONDITION &BODY BODY)\n",
    "  Documentation:\n",
    "    Assert that `body' signals a condition of type `condition'.\n",
    "  Source file: /home/qchen/quicklisp/dists/quicklisp/software/1am-20141106-git/1am.lisp\n",
    "```\n",
    "###  `TEST`\n",
    "\n",
    "```lisp\n",
    "1AM:TEST\n",
    "  [symbol]\n",
    "\n",
    "TEST names a macro:\n",
    "  Lambda-list: (NAME &BODY BODY)\n",
    "  Documentation:\n",
    "    Define a test function and add it to `*tests*'.\n",
    "  Source file: /home/qchen/quicklisp/dists/quicklisp/software/1am-20141106-git/1am.lisp\n",
    "```"
   ]
  },
  {
   "cell_type": "markdown",
   "id": "3ad8a5ca",
   "metadata": {},
   "source": [
    "## `1am`的五脏六腑\n",
    "\n",
    "而且，好奇先生还直接看到源文件的地址，那就去好好看看！\n",
    "\n",
    "```bash\n",
    "> wc -l *\n",
    "  27 1am.asd\n",
    " 105 1am.lisp\n",
    " 114 README.md\n",
    " 246 total\n",
    "```\n",
    "\n",
    "原来，这个**排名第一**的库，就只有三个文件，总共246行，代码就只有132行！\n",
    "\n",
    "### ASDF 定义文件\n",
    "```lisp\n",
    ";;; Copyright (c) 2014 James M. Lawrence\n",
    ";;; \n",
    ";;; Permission is hereby granted, free of charge, to any person\n",
    ";;; obtaining a copy of this software and associated documentation\n",
    ";;; files (the \"Software\"), to deal in the Software without\n",
    ";;; restriction, including without limitation the rights to use, copy,\n",
    ";;; modify, merge, publish, distribute, sublicense, and/or sell copies\n",
    ";;; of the Software, and to permit persons to whom the Software is\n",
    ";;; furnished to do so, subject to the following conditions:\n",
    ";;; \n",
    ";;; The above copyright notice and this permission notice shall be\n",
    ";;; included in all copies or substantial portions of the Software.\n",
    ";;; \n",
    ";;; THE SOFTWARE IS PROVIDED \"AS IS\", WITHOUT WARRANTY OF ANY KIND,\n",
    ";;; EXPRESS OR IMPLIED, INCLUDING BUT NOT LIMITED TO THE WARRANTIES OF\n",
    ";;; MERCHANTABILITY, FITNESS FOR A PARTICULAR PURPOSE AND\n",
    ";;; NONINFRINGEMENT. IN NO EVENT SHALL THE AUTHORS OR COPYRIGHT\n",
    ";;; HOLDERS BE LIABLE FOR ANY CLAIM, DAMAGES OR OTHER LIABILITY,\n",
    ";;; WHETHER IN AN ACTION OF CONTRACT, TORT OR OTHERWISE, ARISING FROM,\n",
    ";;; OUT OF OR IN CONNECTION WITH THE SOFTWARE OR THE USE OR OTHER\n",
    ";;; DEALINGS IN THE SOFTWARE.\n",
    "\n",
    "(defsystem :1am\n",
    "  :description \"A minimal testing framework.\"\n",
    "  :license \"MIT\"\n",
    "  :author \"James M. Lawrence <llmjjmll@gmail.com>\"\n",
    "  :components ((:file \"1am\")))\n",
    "```\n",
    "\n",
    "### 代码文件\n",
    "```lisp\n",
    ";;; Copyright (c) 2014 James M. Lawrence\n",
    ";;;\n",
    ";;; Permission is hereby granted, free of charge, to any person\n",
    ";;; obtaining a copy of this software and associated documentation\n",
    ";;; files (the \"Software\"), to deal in the Software without\n",
    ";;; restriction, including without limitation the rights to use, copy,\n",
    ";;; modify, merge, publish, distribute, sublicense, and/or sell copies\n",
    ";;; of the Software, and to permit persons to whom the Software is\n",
    ";;; furnished to do so, subject to the following conditions:\n",
    ";;;\n",
    ";;; The above copyright notice and this permission notice shall be\n",
    ";;; included in all copies or substantial portions of the Software.\n",
    ";;;\n",
    ";;; THE SOFTWARE IS PROVIDED \"AS IS\", WITHOUT WARRANTY OF ANY KIND,\n",
    ";;; EXPRESS OR IMPLIED, INCLUDING BUT NOT LIMITED TO THE WARRANTIES OF\n",
    ";;; MERCHANTABILITY, FITNESS FOR A PARTICULAR PURPOSE AND\n",
    ";;; NONINFRINGEMENT. IN NO EVENT SHALL THE AUTHORS OR COPYRIGHT\n",
    ";;; HOLDERS BE LIABLE FOR ANY CLAIM, DAMAGES OR OTHER LIABILITY,\n",
    ";;; WHETHER IN AN ACTION OF CONTRACT, TORT OR OTHERWISE, ARISING FROM,\n",
    ";;; OUT OF OR IN CONNECTION WITH THE SOFTWARE OR THE USE OR OTHER\n",
    ";;; DEALINGS IN THE SOFTWARE.\n",
    "\n",
    "(defpackage #:1am\n",
    "  (:use #:cl)\n",
    "  (:export #:test #:is #:signals #:run #:*tests*))\n",
    "\n",
    "(in-package #:1am)\n",
    "\n",
    "(defvar *tests* nil \"A list of tests; the default argument to `run'.\")\n",
    "(defvar *pass-count* nil)\n",
    "(defvar *running* nil)\n",
    "(defvar *failed-random-state* nil)\n",
    "\n",
    "(defun %shuffle (vector)\n",
    "  (loop for i downfrom (- (length vector) 1) to 1\n",
    "        do (rotatef (aref vector i) (aref vector (random (1+ i)))))\n",
    "  vector)\n",
    "\n",
    "(defun shuffle (sequence)\n",
    "  (%shuffle (map 'vector #'identity sequence)))\n",
    "\n",
    "(defun call-with-random-state (fn)\n",
    "  (let ((*random-state* (or *failed-random-state*\n",
    "                            (load-time-value (make-random-state t)))))\n",
    "    (setf *failed-random-state* (make-random-state nil))\n",
    "    (multiple-value-prog1 (funcall fn)\n",
    "      (setf *failed-random-state* nil))))\n",
    "\n",
    "(defun report (test-count pass-count)\n",
    "  (format t \"~&Success: ~s test~:p, ~s check~:p.~%\" test-count pass-count))\n",
    "\n",
    "(defun %run (fn test-count)\n",
    "  (let ((*pass-count* 0))\n",
    "    (multiple-value-prog1 (call-with-random-state fn)\n",
    "      (report test-count *pass-count*))))\n",
    "\n",
    "(defun run (&optional (tests *tests*))\n",
    "  \"Run each test in the sequence `tests'. Default is `*tests*'.\"\n",
    "  (let ((*running* t))\n",
    "    (%run (lambda () (map nil #'funcall (shuffle tests)))\n",
    "          (length tests)))\n",
    "  (values))\n",
    "\n",
    "(defun call-test (name fn)\n",
    "  (format t \"~&~s\" name)\n",
    "  (finish-output)\n",
    "  (if *running*\n",
    "      (funcall fn)\n",
    "      (%run fn 1)))\n",
    "\n",
    "(defmacro test (name &body body)\n",
    "  \"Define a test function and add it to `*tests*'.\"\n",
    "  `(progn\n",
    "     (defun ,name ()\n",
    "       (call-test ',name (lambda () ,@body)))\n",
    "     (pushnew ',name *tests*)\n",
    "     ',name))\n",
    "\n",
    "(defun passed ()\n",
    "  (write-char #\\.)\n",
    "  ;; Checks done outside a test run are not tallied.\n",
    "  (when *pass-count*\n",
    "    (incf *pass-count*))\n",
    "  (values))\n",
    "\n",
    "(defmacro is (form)\n",
    "  \"Assert that `form' evaluates to non-nil.\"\n",
    "  `(progn\n",
    "     (assert ,form)\n",
    "     (passed)))\n",
    "\n",
    "(defun %signals (expected fn)\n",
    "  (flet ((handler (condition)\n",
    "           (cond ((typep condition expected)\n",
    "                  (passed)\n",
    "                  (return-from %signals (values)))\n",
    "                 (t (error \"Expected to signal ~s, but got ~s:~%~a\"\n",
    "                           expected (type-of condition) condition)))))\n",
    "    (handler-bind ((condition #'handler))\n",
    "      (funcall fn)))\n",
    "  (error \"Expected to signal ~s, but got nothing.\" expected))\n",
    "\n",
    "(defmacro signals (condition &body body)\n",
    "  \"Assert that `body' signals a condition of type `condition'.\"\n",
    "  `(%signals ',condition (lambda () ,@body)))\n",
    "```\n",
    "\n",
    "这样就非常清楚了，这个库通过`ASDF`定义了一个系统，然后定义了几个宏和函数，用来进行测试。\n",
    "\n",
    "- `test` 定义一个测试函数，然后将这个函数加入到`*tests*`列表中\n",
    "- `is` 用来断言一个表达式是否为真\n",
    "- `signals` 用来断言一个表达式是否会抛出一个特定的异常\n",
    "- `run` 用来运行`*tests*`列表中的所有测试函数\n",
    "- `*tests*` 用来存放所有的测试函数，作为`run`的默认参数\n",
    "\n",
    "\n",
    "## `1am`使用示例\n",
    "\n",
    "完全照搬自`1am`的`README.md`文件，挠痒痒先生对此负全责。\n",
    "\n",
    "首先是定义测试的部分，相当透明。"
   ]
  },
  {
   "cell_type": "code",
   "execution_count": 10,
   "id": "a0f33d7b",
   "metadata": {
    "vscode": {
     "languageId": "plaintext"
    }
   },
   "outputs": [
    {
     "data": {
      "text/plain": [
       "#<PACKAGE \"EXAMPLE\">"
      ]
     },
     "execution_count": 10,
     "metadata": {},
     "output_type": "execute_result"
    },
    {
     "data": {
      "text/plain": [
       "#<PACKAGE \"EXAMPLE\">"
      ]
     },
     "execution_count": 10,
     "metadata": {},
     "output_type": "execute_result"
    },
    {
     "data": {
      "text/plain": [
       "FOO-TEST"
      ]
     },
     "execution_count": 10,
     "metadata": {},
     "output_type": "execute_result"
    },
    {
     "data": {
      "text/plain": [
       "BAR-TEST"
      ]
     },
     "execution_count": 10,
     "metadata": {},
     "output_type": "execute_result"
    }
   ],
   "source": [
    "(defpackage :example (:use :cl :1am))\n",
    "(in-package :example)\n",
    "\n",
    "(test foo-test\n",
    "    (is (= 1 1))\n",
    "    (is (zerop 0)))\n",
    "\n",
    "(test bar-test\n",
    "    (signals simple-error\n",
    "    (error \"bar!\")))\n",
    "\n",
    "\n"
   ]
  },
  {
   "cell_type": "markdown",
   "id": "e1c96835",
   "metadata": {},
   "source": [
    "### 简单测试\n",
    "\n",
    "接下来是简单的测试，有几种运行测试的办法。\n",
    "\n",
    "- 直接运行`run`函数，会运行`*tests*`列表中的所有测试函数\n",
    "- 运行`test`函数（真的是一个普通的函数），会运行指定的测试函数\n",
    "- 直接构造一个测试函数列表，作为参数传递给`run`函数\n",
    "- 设置`*tests*`列表，然后运行`run`函数\n",
    "\n",
    "实际上，这样就可以满足定位bug，快速测试的所有需求了。由于Lisp的动态特性，还能够在调试中动态定义测试函数，加入运行。"
   ]
  },
  {
   "cell_type": "code",
   "execution_count": 11,
   "id": "ba81dc17",
   "metadata": {
    "vscode": {
     "languageId": "plaintext"
    }
   },
   "outputs": [
    {
     "data": {
      "text/plain": [
       "#<PACKAGE \"EXAMPLE\">"
      ]
     },
     "execution_count": 11,
     "metadata": {},
     "output_type": "execute_result"
    },
    {
     "name": "stdout",
     "output_type": "stream",
     "text": [
      "FOO-TEST..\n",
      "BAR-TEST.\n",
      "Success: 2 tests, 3 checks.\n"
     ]
    }
   ],
   "source": [
    "(in-package :example)\n",
    "(run)"
   ]
  },
  {
   "cell_type": "code",
   "execution_count": 12,
   "id": "199d8f4a",
   "metadata": {
    "vscode": {
     "languageId": "plaintext"
    }
   },
   "outputs": [
    {
     "name": "stdout",
     "output_type": "stream",
     "text": [
      "FOO-TEST..\n",
      "Success: 1 test, 2 checks.\n"
     ]
    }
   ],
   "source": [
    "(foo-test)"
   ]
  },
  {
   "cell_type": "code",
   "execution_count": 13,
   "id": "964dc0ad",
   "metadata": {
    "vscode": {
     "languageId": "plaintext"
    }
   },
   "outputs": [
    {
     "name": "stdout",
     "output_type": "stream",
     "text": [
      "BAR-TEST.\n",
      "Success: 1 test, 1 check.\n"
     ]
    }
   ],
   "source": [
    "(run '(bar-test))"
   ]
  },
  {
   "cell_type": "code",
   "execution_count": 14,
   "id": "a8f615d5",
   "metadata": {
    "vscode": {
     "languageId": "plaintext"
    }
   },
   "outputs": [
    {
     "data": {
      "text/plain": [
       "(FOO-TEST)"
      ]
     },
     "execution_count": 14,
     "metadata": {},
     "output_type": "execute_result"
    },
    {
     "name": "stdout",
     "output_type": "stream",
     "text": [
      "FOO-TEST..\n",
      "Success: 1 test, 2 checks.\n"
     ]
    }
   ],
   "source": [
    "(setf *tests* '(foo-test)) \n",
    "(run)"
   ]
  }
 ],
 "metadata": {
  "kernelspec": {
   "display_name": "Common Lisp",
   "language": "common-lisp",
   "name": "common-lisp"
  },
  "language_info": {
   "codemirror_mode": "text/x-common-lisp",
   "file_extension": ".lisp",
   "mimetype": "text/x-common-lisp",
   "name": "common-lisp",
   "pygments_lexer": "common-lisp",
   "version": "2.1.11.debian"
  }
 },
 "nbformat": 4,
 "nbformat_minor": 5
}
