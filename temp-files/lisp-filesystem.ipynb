{
 "cells": [
  {
   "cell_type": "markdown",
   "id": "673d5d64",
   "metadata": {},
   "source": [
    "## Lisp之路\n",
    "\n",
    "最近看了几个人的Lisp博客，有一个人说，Lisp生态不够好是一种优势，因为这样他就可以多发几个包，刷下存在感。\n",
    "\n",
    "说得我竟然无言以对。难道我也应该刷几个Lisp包的存在感？\n",
    "\n"
   ]
  },
  {
   "cell_type": "code",
   "execution_count": 39,
   "id": "38a2beae-f1fc-4f0b-a33b-d1fad33a2a79",
   "metadata": {
    "tags": [],
    "vscode": {
     "languageId": "commonlisp"
    }
   },
   "outputs": [
    {
     "name": "stdout",
     "output_type": "stream",
     "text": [
      "To load \"explore-lisp\":\n",
      "  Load 1 ASDF system:\n",
      "    explore-lisp\n",
      "; Loading \"explore-lisp\"\n",
      "."
     ]
    },
    {
     "data": {
      "text/plain": [
       "(EXPLORE-LISP)"
      ]
     },
     "execution_count": 39,
     "metadata": {},
     "output_type": "execute_result"
    },
    {
     "data": {
      "text/plain": [
       "NIL"
      ]
     },
     "execution_count": 39,
     "metadata": {},
     "output_type": "execute_result"
    },
    {
     "data": {
      "text/plain": [
       "(EXPLORE-LISP:EXPORT-ALL-EXTERNAL-SYMBOLS-TO-STREAM EXPLORE-LISP:DIR\n",
       "                                                    EXPLORE-LISP:FORMAT-DESCRIPTIONS\n",
       "                                                    EXPLORE-LISP:DESCRIBE-SYMBOL\n",
       "                                                    EXPLORE-LISP:EXPORT-DESCRIPTIONS\n",
       "                                                    EXPLORE-LISP:LOOKFOR\n",
       "                                                    EXPLORE-LISP:EXPORT-ALL-EXTERNAL-SYMBOLS\n",
       "                                                    EXPLORE-LISP:SEARCH-SYMBOLS)"
      ]
     },
     "execution_count": 39,
     "metadata": {},
     "output_type": "execute_result"
    },
    {
     "data": {
      "text/plain": [
       "8"
      ]
     },
     "execution_count": 39,
     "metadata": {},
     "output_type": "execute_result"
    },
    {
     "name": "stdout",
     "output_type": "stream",
     "text": [
      "\n"
     ]
    }
   ],
   "source": [
    "(ql:quickload 'explore-lisp)\n",
    "(require 'explore-lisp)\n",
    "(el:dir 'el)\n",
    "\n"
   ]
  },
  {
   "cell_type": "code",
   "execution_count": 40,
   "id": "d2e3631b-c917-4ea2-9c04-98e5f6896bec",
   "metadata": {
    "tags": [],
    "vscode": {
     "languageId": "commonlisp"
    }
   },
   "outputs": [
    {
     "data": {
      "text/plain": [
       "NIL"
      ]
     },
     "execution_count": 40,
     "metadata": {},
     "output_type": "execute_result"
    }
   ],
   "source": [
    "(el:export-descriptions (nth-value 1 (el:lookfor \"pathname\" nil nil)) #p\"pathname.md\")"
   ]
  },
  {
   "cell_type": "code",
   "execution_count": 41,
   "id": "dd33201e-6c4c-4df1-920b-37766b296047",
   "metadata": {
    "tags": [],
    "vscode": {
     "languageId": "commonlisp"
    }
   },
   "outputs": [
    {
     "data": {
      "text/plain": [
       "23"
      ]
     },
     "execution_count": 41,
     "metadata": {},
     "output_type": "execute_result"
    },
    {
     "data": {
      "text/plain": [
       "(MERGE-PATHNAMES LOGICAL-PATHNAME PATHNAMEP USER-HOMEDIR-PATHNAME\n",
       "                 PATHNAME-VERSION PATHNAME-DIRECTORY FILE-ERROR-PATHNAME\n",
       "                 COMPILE-FILE-PATHNAME TRANSLATE-LOGICAL-PATHNAME PATHNAME-HOST\n",
       "                 MAKE-PATHNAME TRANSLATE-PATHNAME PATHNAME\n",
       "                 LOGICAL-PATHNAME-TRANSLATIONS PATHNAME-MATCH-P *LOAD-PATHNAME*\n",
       "                 *DEFAULT-PATHNAME-DEFAULTS* PATHNAME-DEVICE WILD-PATHNAME-P\n",
       "                 *COMPILE-FILE-PATHNAME* PATHNAME-TYPE PATHNAME-NAME\n",
       "                 LOAD-LOGICAL-PATHNAME-TRANSLATIONS)"
      ]
     },
     "execution_count": 41,
     "metadata": {},
     "output_type": "execute_result"
    },
    {
     "name": "stdout",
     "output_type": "stream",
     "text": [
      "[COMMON-LISP:LOAD-LOGICAL-PATHNAME-TRANSLATIONS]  Reads logical pathname translations from SYS:SITE;HOST.TRANSLATIONS.NEWEST,\n",
      "[COMMON-LISP:PATHNAME-NAME]  Return PATHNAME's name.\n",
      "[COMMON-LISP:PATHNAME-TYPE]  Return PATHNAME's type.\n",
      "[COMMON-LISP:*COMPILE-FILE-PATHNAME*]  The defaulted pathname of the file currently being compiled, or NIL if not\n",
      "[COMMON-LISP:WILD-PATHNAME-P]  Predicate for determining whether pathname contains any wildcards.\n",
      "[COMMON-LISP:PATHNAME-DEVICE]  Return PATHNAME's device.\n",
      "[COMMON-LISP:*DEFAULT-PATHNAME-DEFAULTS*]  No documentation found\n",
      "[COMMON-LISP:*LOAD-PATHNAME*]  the defaulted pathname that LOAD is currently loading\n",
      "[COMMON-LISP:PATHNAME-MATCH-P]  Pathname matches the wildname template?\n",
      "[COMMON-LISP:LOGICAL-PATHNAME-TRANSLATIONS]  Return the (logical) host object argument's list of translations.\n",
      "[COMMON-LISP:PATHNAME]  Convert PATHSPEC (a pathname designator) into a pathname.\n",
      "[COMMON-LISP:TRANSLATE-PATHNAME]  Use the source pathname to translate the from-wildname's wild and\n",
      "[COMMON-LISP:MAKE-PATHNAME]  Makes a new pathname from the component arguments. Note that host is\n",
      "[COMMON-LISP:PATHNAME-HOST]  Return PATHNAME's host.\n",
      "[COMMON-LISP:TRANSLATE-LOGICAL-PATHNAME]  Translate PATHNAME to a physical pathname, which is returned.\n",
      "[COMMON-LISP:COMPILE-FILE-PATHNAME]  Return a pathname describing what file COMPILE-FILE would write to given\n",
      "[COMMON-LISP:FILE-ERROR-PATHNAME]  No documentation found\n",
      "[COMMON-LISP:PATHNAME-DIRECTORY]  Return PATHNAME's directory.\n",
      "[COMMON-LISP:PATHNAME-VERSION]  Return PATHNAME's version.\n",
      "[COMMON-LISP:USER-HOMEDIR-PATHNAME]  Return the home directory of the user as a pathname. If the HOME\n",
      "[COMMON-LISP:PATHNAMEP]  No documentation found\n",
      "[COMMON-LISP:LOGICAL-PATHNAME]  Converts the pathspec argument to a logical-pathname and returns it.\n",
      "[COMMON-LISP:MERGE-PATHNAMES]  Construct a filled in pathname by completing the unspecified components\n"
     ]
    }
   ],
   "source": [
    "(el:lookfor \"pathname\")"
   ]
  },
  {
   "cell_type": "markdown",
   "id": "870629fe-7d3a-45f1-a3e5-f6939aca9557",
   "metadata": {},
   "source": [
    "## 文件系统\n",
    "\n",
    "文件，是信息存储物理载体的逻辑抽象，硬盘上的字节流，以及文件的方式提供访问接口，文件头、文件指针、文件结束符，这些概念一经提出，就成为了描述这一概念的标准语言体系。在Linux系统中，更是万物皆文件。\n"
   ]
  },
  {
   "cell_type": "code",
   "execution_count": null,
   "id": "80788051-f45e-45b8-953b-f935fa69f6ab",
   "metadata": {
    "vscode": {
     "languageId": "python"
    }
   },
   "outputs": [],
   "source": []
  }
 ],
 "metadata": {
  "kernelspec": {
   "display_name": "Common Lisp",
   "language": "common-lisp",
   "name": "common-lisp"
  },
  "language_info": {
   "codemirror_mode": "text/x-common-lisp",
   "file_extension": ".lisp",
   "mimetype": "text/x-common-lisp",
   "name": "common-lisp",
   "pygments_lexer": "common-lisp",
   "version": "2.2.9.debian"
  }
 },
 "nbformat": 4,
 "nbformat_minor": 5
}
