{
 "cells": [
  {
   "cell_type": "code",
   "execution_count": 1,
   "id": "38a2beae-f1fc-4f0b-a33b-d1fad33a2a79",
   "metadata": {
    "tags": []
   },
   "outputs": [
    {
     "data": {
      "text/plain": [
       "NIL"
      ]
     },
     "execution_count": 1,
     "metadata": {},
     "output_type": "execute_result"
    }
   ],
   "source": [
    "(require 'explore-lisp)"
   ]
  },
  {
   "cell_type": "code",
   "execution_count": 2,
   "id": "d2e3631b-c917-4ea2-9c04-98e5f6896bec",
   "metadata": {
    "tags": []
   },
   "outputs": [
    {
     "data": {
      "text/plain": [
       "(EXPLORE-LISP:EXPORT-ALL-EXTERNAL-SYMBOLS-TO-STREAM EXPLORE-LISP:DIR\n",
       "                                                    EXPLORE-LISP:FORMAT-DESCRIPTIONS\n",
       "                                                    EXPLORE-LISP:DESCRIBE-SYMBOL\n",
       "                                                    EXPLORE-LISP:EXPORT-DESCRIPTIONS\n",
       "                                                    EXPLORE-LISP:EXPORT-ALL-EXTERNAL-SYMBOLS\n",
       "                                                    EXPLORE-LISP:SEARCH-SYMBOLS)"
      ]
     },
     "execution_count": 2,
     "metadata": {},
     "output_type": "execute_result"
    },
    {
     "data": {
      "text/plain": [
       "7"
      ]
     },
     "execution_count": 2,
     "metadata": {},
     "output_type": "execute_result"
    }
   ],
   "source": [
    "(el:dir 'el)"
   ]
  },
  {
   "cell_type": "code",
   "execution_count": 3,
   "id": "dd33201e-6c4c-4df1-920b-37766b296047",
   "metadata": {
    "tags": []
   },
   "outputs": [
    {
     "data": {
      "text/plain": [
       "\"# Symbol list\n",
       "\n",
       "1. [EXPORT-ALL-EXTERNAL-SYMBOLS-TO-STREAM](#export-all-external-symbols-to-stream)\n",
       "2. [DIR](#dir)\n",
       "3. [FORMAT-DESCRIPTIONS](#format-descriptions)\n",
       "4. [DESCRIBE-SYMBOL](#describe-symbol)\n",
       "5. [EXPORT-DESCRIPTIONS](#export-descriptions)\n",
       "6. [EXPORT-ALL-EXTERNAL-SYMBOLS](#export-all-external-symbols)\n",
       "7. [SEARCH-SYMBOLS](#search-symbols)\n",
       "\n",
       "\n",
       "## `EXPORT-ALL-EXTERNAL-SYMBOLS-TO-STREAM`\n",
       "\n",
       "```lisp\n",
       "EXPLORE-LISP:EXPORT-ALL-EXTERNAL-SYMBOLS-TO-STREAM\n",
       "  [symbol]\n",
       "\n",
       "EXPORT-ALL-EXTERNAL-SYMBOLS-TO-STREAM names a compiled function:\n",
       "  Lambda-list: (PACKAGE S &KEY (START-LEVEL 1))\n",
       "  Derived type: (FUNCTION (T T &KEY (:START-LEVEL T))\n",
       "                 (VALUES NULL &OPTIONAL))\n",
       "  Documentation:\n",
       "    List all external symbols in a package and their doc strings into a file ~package~.md\n",
       "  Source file: /home/qchen/quicklisp/local-projects/explore-lisp/explore-lisp.lisp\n",
       "\n",
       "```\n",
       "\n",
       "## `DIR`\n",
       "\n",
       "```lisp\n",
       "EXPLORE-LISP:DIR\n",
       "  [symbol]\n",
       "\n",
       "DIR names a compiled function:\n",
       "  Lambda-list: (PACKAGE)\n",
       "  Derived type: (FUNCTION (T) (VALUES LIST UNSIGNED-BYTE &OPTIONAL))\n",
       "  Documentation:\n",
       "    List all external symbols in a package, return a list of symbol names and its length\n",
       "  Source file: /home/qchen/quicklisp/local-projects/explore-lisp/explore-lisp.lisp\n",
       "\n",
       "```\n",
       "\n",
       "## `FORMAT-DESCRIPTIONS`\n",
       "\n",
       "```lisp\n",
       "EXPLORE-LISP:FORMAT-DESCRIPTIONS\n",
       "  [symbol]\n",
       "\n",
       "FORMAT-DESCRIPTIONS names a compiled function:\n",
       "  Lambda-list: (NAME-LIST &OPTIONAL (START-LEVEL 1))\n",
       "  Derived type: (FUNCTION (T &OPTIONAL T)\n",
       "                 (VALUES SIMPLE-STRING &OPTIONAL))\n",
       "  Documentation:\n",
       "    Format a list of symbol names as markdown, with optional start level for headers\n",
       "  Source file: /home/qchen/quicklisp/local-projects/explore-lisp/explore-lisp.lisp\n",
       "\n",
       "```\n",
       "\n",
       "## `DESCRIBE-SYMBOL`\n",
       "\n",
       "```lisp\n",
       "EXPLORE-LISP:DESCRIBE-SYMBOL\n",
       "  [symbol]\n",
       "\n",
       "DESCRIBE-SYMBOL names a compiled function:\n",
       "  Lambda-list: (NAME)\n",
       "  Derived type: (FUNCTION (T) (VALUES SIMPLE-STRING &OPTIONAL))\n",
       "  Documentation:\n",
       "    Describe a symbol and return the output as a string\n",
       "  Source file: /home/qchen/quicklisp/local-projects/explore-lisp/explore-lisp.lisp\n",
       "\n",
       "```\n",
       "\n",
       "## `EXPORT-DESCRIPTIONS`\n",
       "\n",
       "```lisp\n",
       "EXPLORE-LISP:EXPORT-DESCRIPTIONS\n",
       "  [symbol]\n",
       "\n",
       "EXPORT-DESCRIPTIONS names a compiled function:\n",
       "  Lambda-list: (NAME-LIST FN &OPTIONAL (START-LEVEL 1))\n",
       "  Derived type: (FUNCTION (T T &OPTIONAL T)\n",
       "                 (VALUES (OR STRING NULL) &OPTIONAL))\n",
       "  Documentation:\n",
       "    Save a list of symbol names to a file\n",
       "  Source file: /home/qchen/quicklisp/local-projects/explore-lisp/explore-lisp.lisp\n",
       "\n",
       "```\n",
       "\n",
       "## `EXPORT-ALL-EXTERNAL-SYMBOLS`\n",
       "\n",
       "```lisp\n",
       "EXPLORE-LISP:EXPORT-ALL-EXTERNAL-SYMBOLS\n",
       "  [symbol]\n",
       "\n",
       "EXPORT-ALL-EXTERNAL-SYMBOLS names a compiled function:\n",
       "  Lambda-list: (PACKAGE &KEY (FN  FN-P) (START-LEVEL 1))\n",
       "  Derived type: (FUNCTION (T &KEY (:FN T) (:START-LEVEL T))\n",
       "                 (VALUES NULL &OPTIONAL))\n",
       "  Documentation:\n",
       "    List all external symbols in a package and their doc strings into a file ~package~.md\n",
       "  Source file: /home/qchen/quicklisp/local-projects/explore-lisp/explore-lisp.lisp\n",
       "\n",
       "```\n",
       "\n",
       "## `SEARCH-SYMBOLS`\n",
       "\n",
       "```lisp\n",
       "EXPLORE-LISP:SEARCH-SYMBOLS\n",
       "  [symbol]\n",
       "\n",
       "SEARCH-SYMBOLS names a compiled function:\n",
       "  Lambda-list: (NAME PACKAGE &KEY (DOC-STRING NIL))\n",
       "  Derived type: (FUNCTION (T T &KEY (:DOC-STRING T))\n",
       "                 (VALUES LIST &OPTIONAL))\n",
       "  Documentation:\n",
       "    Search for string in symbol names and doc strings in a package\n",
       "  Source file: /home/qchen/quicklisp/local-projects/explore-lisp/explore-lisp.lisp\n",
       "\n",
       "```\n",
       "\n",
       "\""
      ]
     },
     "execution_count": 3,
     "metadata": {},
     "output_type": "execute_result"
    }
   ],
   "source": [
    "(el:format-descriptions (el:dir 'el))"
   ]
  },
  {
   "cell_type": "markdown",
   "id": "870629fe-7d3a-45f1-a3e5-f6939aca9557",
   "metadata": {},
   "source": [
    "## 文件系统\n",
    "\n",
    "文件，是信息存储物理载体的逻辑抽象，硬盘上的字节流，以及文件的方式提供访问接口，文件头、文件指针、文件结束符，这些概念一经提出，就成为了描述这一概念的标准语言体系。在Linux系统中，更是万物皆文件。\n"
   ]
  },
  {
   "cell_type": "code",
   "execution_count": null,
   "id": "80788051-f45e-45b8-953b-f935fa69f6ab",
   "metadata": {},
   "outputs": [],
   "source": []
  }
 ],
 "metadata": {
  "kernelspec": {
   "display_name": "Common Lisp",
   "language": "common-lisp",
   "name": "common-lisp"
  },
  "language_info": {
   "codemirror_mode": "text/x-common-lisp",
   "file_extension": ".lisp",
   "mimetype": "text/x-common-lisp",
   "name": "common-lisp",
   "pygments_lexer": "common-lisp",
   "version": "2.1.11.debian"
  }
 },
 "nbformat": 4,
 "nbformat_minor": 5
}
