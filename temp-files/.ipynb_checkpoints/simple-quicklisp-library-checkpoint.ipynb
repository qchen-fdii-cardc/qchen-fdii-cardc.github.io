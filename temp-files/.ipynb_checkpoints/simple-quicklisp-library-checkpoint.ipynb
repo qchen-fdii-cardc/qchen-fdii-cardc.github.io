{
 "cells": [
  {
   "cell_type": "markdown",
   "id": "03341fe5-79ea-442a-8ce9-ea7565d90ee8",
   "metadata": {},
   "source": [
    "## `quicklisp`排名第一的库\n",
    "\n",
    "白日梦先生已经跟着大家一起学Lisp长达两个月零五天，自觉已经天下无敌！\n",
    "\n",
    "他已经能够：\n",
    "\n",
    "- \n",
    "\n",
    "1. [001 粗鲁先生Lisp再出发](/posts/001-rude-start-application/)\n",
    "2. [002 懒惰先生的Lisp开发流程](/posts/002-lazy-process/)\n",
    "3. [003 颠倒先生的数学表达式](/posts/003-lazy-process/)\n",
    "4. [004 完美先生的完美Lisp](/posts/004-perfect/)\n",
    "5. [005 好奇先生用Lisp来探索Lisp](/posts/005-explore-lisp/)\n",
    "6. [006 好奇先生在Lisp的花园里挖呀挖呀挖](/posts/006-sequence-in-lisp/)\n",
    "7. [007 挑剔先生给出终止迭代的条件](/posts/007-recursive-eq/)\n",
    "8. [008 挠痒痒先生建网站记](/posts/008-real-app/)\n",
    "9. [009 小小先生学习Lisp表达式](/posts/009-expression/)\n",
    "10. [010 聪明先生拒(ji)绝(xu)造轮子](/posts/010-smart-cl-classification/)\n",
    "11. [011 没人先生学习Lisp函数](/posts/011-functions.md)\n",
    "\n",
    "\n"
   ]
  }
 ],
 "metadata": {
  "kernelspec": {
   "display_name": "Common Lisp",
   "language": "common-lisp",
   "name": "common-lisp"
  },
  "language_info": {
   "codemirror_mode": "text/x-common-lisp",
   "file_extension": ".lisp",
   "mimetype": "text/x-common-lisp",
   "name": "common-lisp",
   "pygments_lexer": "common-lisp",
   "version": "2.1.11.debian"
  }
 },
 "nbformat": 4,
 "nbformat_minor": 5
}
