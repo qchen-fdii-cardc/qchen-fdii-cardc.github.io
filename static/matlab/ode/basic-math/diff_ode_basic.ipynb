{
 "cells": [
  {
   "cell_type": "markdown",
   "id": "cb51597d",
   "metadata": {},
   "source": [
    "## 微分方程的概念\n",
    "\n",
    "### 方程和方程的根\n",
    "\n",
    "方程，equation，其词根是equa，表示相等。因此方程一般可写成等式的形式。\n",
    "\n",
    "$$\n",
    "f = g\n",
    "$$\n",
    "\n",
    "这就是一个方程，当然，为了方便，我们还会把上面的方程写成：\n",
    "\n",
    "$$\n",
    "f - g = 0\n",
    "$$\n",
    "\n",
    "这只是上面那个方程的一个特例，这里$f_1 = f - g$, $g_1 = 0$，依然是$f_1 = g_1$。\n",
    "\n",
    "如果只是简单而量值想等，那么方程的意义也没有多大（依然很大）。实际上，方程中非常重要的一个基础就是函数的概念。函数是两个集合之间的映射。上面的方程如果写成：\n",
    "\n",
    "$$\n",
    "f(x) - g(x) = 0\n",
    "$$\n",
    "\n",
    "或者干脆就是：\n",
    "\n",
    "$$\n",
    "f_1(x) = 0\n",
    "$$\n",
    "\n",
    "因为我们总是可以定义 $f_1(x) = f(x) - g(x)$ 。不失一般性，我们把 $f_1(x)$ 写成 $f(x)$。\n",
    "\n",
    "当有个这个之后，我们探讨的问题就变成了，如何从 $f(x)$ 的形式、$f(x)=0$，来分析 $x$ 的取值。这就是求解方程的解，也称为解方程、求解方程。而使得 $f(x)=0$ 的 $x$ 的取值，称为方程的解，也称为方程的根(root)。\n",
    "\n",
    "要记住一点，我们暂时只讨论包含一个自变量的方程，也就是，只考虑单因素的问题。比如，依赖时间（$t$）变化的人口数，一条河流从头到尾的流速、水量（依赖于从起点开始的河流长度，$s$），一根长杆上的温度分布（依赖于从起点开始的杆长，$x$）。\n",
    "\n",
    "整个小学，我们要求解的种种应用题，基本上都是单因素的简单关系求解。当然，例如鸡兔同笼，因为鸡和兔的数量之和是固定的，很直观的可以转化为一个单因素的问题。\n",
    "\n",
    "代数关系构成的方程，我们称为代数方程，还是挺美好的，大部分时候。虽然，人类的顶尖人物，曾经在求解例如一般的二次方程、三次方程乃至高次多项式方程时，头发受到过严重的威胁。现在，关于代数方程的探讨已经不太好玩了，什么虚根、实根，都比较容易在matlab和相关的工具中求解。\n",
    "\n",
    "对于非常复杂的多个自变量的代数方程组，我们通常会求助于数值方法——迭代求解。"
   ]
  },
  {
   "cell_type": "code",
   "execution_count": 10,
   "id": "2fe34e3c",
   "metadata": {},
   "outputs": [
    {
     "data": {
      "text/latex": [
       "$f(x) =x^2 -1$"
      ]
     },
     "execution_count": 10,
     "metadata": {},
     "output_type": "execute_result"
    },
    {
     "data": {
      "text/latex": [
       "$ans =\\left(\\begin{array}{c}\n",
       "-1\\\\\n",
       "1\n",
       "\\end{array}\\right)$"
      ]
     },
     "execution_count": 10,
     "metadata": {},
     "output_type": "execute_result"
    }
   ],
   "source": [
    "syms f(x)\n",
    "f(x) = x^2 - 1\n",
    "solve(f(x) == 0, x)"
   ]
  },
  {
   "cell_type": "code",
   "execution_count": 11,
   "id": "46094910",
   "metadata": {},
   "outputs": [
    {
     "data": {
      "text/latex": [
       "$f(x) =x^3 -1$"
      ]
     },
     "execution_count": 11,
     "metadata": {},
     "output_type": "execute_result"
    },
    {
     "data": {
      "text/latex": [
       "$ans =\\left(\\begin{array}{c}\n",
       "1\\\\\n",
       "-\\frac{1}{2}-\\frac{\\sqrt{3}\\,\\mathrm{i}}{2}\\\\\n",
       "-\\frac{1}{2}+\\frac{\\sqrt{3}\\,\\mathrm{i}}{2}\n",
       "\\end{array}\\right)$"
      ]
     },
     "execution_count": 11,
     "metadata": {},
     "output_type": "execute_result"
    }
   ],
   "source": [
    "f(x) = x^3 - 1\n",
    "solve(f(x) == 0, x)"
   ]
  },
  {
   "cell_type": "code",
   "execution_count": 14,
   "id": "e9aa8dd5",
   "metadata": {},
   "outputs": [
    {
     "data": {
      "text/latex": [
       "$f(x) =3\\,x^4 -2\\,x^3 +5\\,x^2 -4\\,x+1$"
      ]
     },
     "execution_count": 14,
     "metadata": {},
     "output_type": "execute_result"
    },
    {
     "data": {
      "text/latex": [
       "$ans =\\left(\\begin{array}{c}\n",
       "0.4244512907+0.1620000438\\,\\mathrm{i}\\\\\n",
       "0.4244512907-0.1620000438\\,\\mathrm{i}\\\\\n",
       "-0.09111795734+1.267541641\\,\\mathrm{i}\\\\\n",
       "-0.09111795734-1.267541641\\,\\mathrm{i}\n",
       "\\end{array}\\right)$"
      ]
     },
     "execution_count": 14,
     "metadata": {},
     "output_type": "execute_result"
    }
   ],
   "source": [
    "f(x) = 3 * x^4 - 2 * x^3 + 5 * x^2 - 4 * x + 1\n",
    "ret = solve(f(x) == 0, x);\n",
    "vpa(ret, 10)"
   ]
  },
  {
   "cell_type": "code",
   "execution_count": 32,
   "id": "734a4b81",
   "metadata": {},
   "outputs": [
    {
     "data": {
      "text/latex": [
       "$ret =\\left(\\begin{array}{c}\n",
       "\\frac{\\pi }{2}\\\\\n",
       "0\n",
       "\\end{array}\\right)$"
      ]
     },
     "execution_count": 32,
     "metadata": {},
     "output_type": "execute_result"
    }
   ],
   "source": [
    "f(x) = sin(x) + cos(x) - 1;\n",
    "ret = solve(f(x) == 0, x);\n",
    "ret"
   ]
  },
  {
   "cell_type": "code",
   "execution_count": 36,
   "id": "d6776b27",
   "metadata": {},
   "outputs": [
    {
     "data": {
      "text/latex": [
       "$ans =0.5671432904$"
      ]
     },
     "execution_count": 36,
     "metadata": {},
     "output_type": "execute_result"
    }
   ],
   "source": [
    "f(x) = x * exp(x) - 1;\n",
    "ret = solve(f(x) == 0, x);\n",
    "vpa(ret, 10)"
   ]
  },
  {
   "cell_type": "code",
   "execution_count": 21,
   "id": "6dfec83a",
   "metadata": {},
   "outputs": [
    {
     "name": "stdout",
     "output_type": "stream",
     "text": [
      "--- help for sym/solve ---\n",
      "\n",
      " SOLVE  Symbolic solution of algebraic equations.\n",
      "    S = SOLVE(eqn1,eqn2,...,eqnM,var1,var2,...,varN)\n",
      "    S = SOLVE(eqn1,eqn2,...,eqnM,var1,var2,...,varN,'ReturnConditions',true)\n",
      " \n",
      "    [S1,...,SN] = SOLVE(eqn1,eqn2,...,eqnM,var1,var2,...,varN)\n",
      "    [S1,...,SN,params,conds] = SOLVE(eqn1,...,eqnM,var1,var2,...,varN,'ReturnConditions',true)\n",
      " \n",
      "    The eqns are symbolic expressions, equations, or inequalities.  The\n",
      "    vars are symbolic variables specifying the unknown variables.\n",
      "    If the expressions are not equations or inequalities, \n",
      "    SOLVE seeks zeros of the expressions.\n",
      "    Otherwise SOLVE seeks solutions.\n",
      "    If not specified, the unknowns in the system are determined by SYMVAR,\n",
      "    such that their number equals the number of equations.\n",
      "    If no analytical solution is found, a numeric solution is attempted;\n",
      "    in this case, a warning is printed. \n",
      " \n",
      "    Three different types of output are possible.  For one variable and one\n",
      "    output, the resulting solution is returned, with multiple solutions to\n",
      "    a nonlinear equation in a symbolic vector.  For several variables and\n",
      "    several outputs, the results are sorted in the same order as the\n",
      "    variables var1,var2,...,varN in the call to SOLVE.  In case no variables\n",
      "    are given in the call to SOLVE, the results are sorted in lexicographic\n",
      "    order and assigned to the outputs.  For several variables and a single\n",
      "    output, a structure containing the solutions is returned.\n",
      " \n",
      "    SOLVE(...,'ReturnConditions', VAL) controls whether SOLVE should in  \n",
      "    addition return a vector of all newly generated parameters to express \n",
      "    infinite solution sets and about conditions on the input parameters \n",
      "    under which the solutions are correct. \n",
      "    If VAL is TRUE, parameters and conditions are assigned to the last two \n",
      "    outputs. Thus, if you provide several outputs, their number must equal \n",
      "    the number of specified variables plus two.\n",
      "    If you provide a single output, a structure is returned \n",
      "    that contains two additional fields 'parameters' and 'conditions'.\n",
      "    No numeric solution is attempted even if no analytical solution is found.\n",
      "    If VAL is FALSE, then SOLVE may warn about newly generated parameters or \n",
      "    replace them automatically by admissible values. It may also fall back \n",
      "    to the numerical solver.\n",
      "    The default is FALSE.\n",
      " \n",
      "    SOLVE(...,'IgnoreAnalyticConstraints',VAL) controls the level of\n",
      "    mathematical rigor to use on the analytical constraints of the solution\n",
      "    (branch cuts, division by zero, etc). The options for VAL are TRUE or\n",
      "    FALSE. Specify FALSE to use the highest level of mathematical rigor\n",
      "    in finding any solutions. The default is FALSE.\n",
      " \n",
      "    SOLVE(...,'PrincipalValue',VAL) controls whether SOLVE should return multiple\n",
      "    solutions (if VAL is FALSE), or just a single solution (when VAL is TRUE).\n",
      "    The default is FALSE.\n",
      " \n",
      "    SOLVE(...,'IgnoreProperties',VAL) controls if SOLVE should take\n",
      "    assumptions on variables into account. VAL can be TRUE or FALSE.\n",
      "    The default is FALSE (i.e., take assumptions into account).\n",
      " \n",
      "    SOLVE(...,'Real',VAL) allows to put the solver into \"real mode.\"\n",
      "    In \"real mode,\" only real solutions such that all intermediate values\n",
      "    of the input expression are real are searched. VAL can be TRUE or FALSE.\n",
      "    The default is FALSE.\n",
      " \n",
      "    SOLVE(...,'MaxDegree',n) controls the maximum degree of polynomials\n",
      "    for which explicit formulas will be used during the computation.\n",
      "    n must be a positive integer. The default is 3.\n",
      " \n",
      "    Example 1:\n",
      "       syms p x r\n",
      "       solve(p*sin(x) == r) chooses 'x' as the unknown and returns\n",
      " \n",
      "         ans =\n",
      "                asin(r/p)\n",
      "           pi - asin(r/p)\n",
      " \n",
      "    Example 2:\n",
      "       syms x y\n",
      "       [Sx,Sy] = solve(x^2 + x*y + y == 3,x^2 - 4*x + 3 == 0) returns\n",
      " \n",
      "         Sx =\n",
      "          1\n",
      "          3\n",
      " \n",
      "         Sy =\n",
      "             1\n",
      "          -3/2\n",
      " \n",
      "    Example 3:\n",
      "       syms x y\n",
      "       S = solve(x^2*y^2 - 2*x - 1 == 0,x^2 - y^2 - 1 == 0) returns\n",
      "       the solutions in a structure.\n",
      " \n",
      "         S =\n",
      "           x: [8x1 sym]\n",
      "           y: [8x1 sym]\n",
      " \n",
      "    Example 4:\n",
      "       syms a u v\n",
      "       [Su,Sv] = solve(a*u^2 + v^2 == 0,u - v == 1) regards 'a' as a\n",
      "       parameter and solves the two equations for u and v.\n",
      " \n",
      "    Example 5:\n",
      "       syms a u v w\n",
      "       S = solve(a*u^2 + v^2,u - v == 1,a,u) regards 'v' as a\n",
      "       parameter, solves the two equations, and returns S.a and S.u.\n",
      " \n",
      "       When assigning the result to several outputs, the order in which\n",
      "       the result is returned depends on the order in which the variables\n",
      "       are given in the call to solve:\n",
      "       [U,V] = solve(u + v,u - v == 1, u, v) assigns the value for u to U\n",
      "       and the value for v to V. In contrast to that\n",
      "       [U,V] = solve(u + v,u - v == 1, v, u) assigns the value for v to U\n",
      "       and the value of u to V.\n",
      " \n",
      "    Example 6:\n",
      "       syms a u v\n",
      "       [Sa,Su,Sv] = solve(a*u^2 + v^2,u - v == 1,a^2 - 5*a + 6) solves\n",
      "       the three equations for a, u and v.\n",
      " \n",
      "    Example 7:\n",
      "       syms x\n",
      "       S = solve(x^(5/2) == 8^(sym(10/3))) returns all three complex solutions:\n",
      " \n",
      "         S =\n",
      "                                                         16\n",
      "          - 4*5^(1/2) - 4 + 4*2^(1/2)*(5 - 5^(1/2))^(1/2)*i\n",
      "          - 4*5^(1/2) - 4 - 4*2^(1/2)*(5 - 5^(1/2))^(1/2)*i\n",
      " \n",
      "    Example 8:\n",
      "       syms x\n",
      "       S = solve(x^(5/2) == 8^(sym(10/3)), 'PrincipalValue', true)\n",
      "       selects one of these:\n",
      " \n",
      "         S =\n",
      "         - 4*5^(1/2) - 4 + 4*2^(1/2)*(5 - 5^(1/2))^(1/2)*i\n",
      " \n",
      "    Example 9:\n",
      "       syms x\n",
      "       S = solve(x^(5/2) == 8^(sym(10/3)), 'IgnoreAnalyticConstraints', true)\n",
      "       ignores branch cuts during internal simplifications and, in this case,\n",
      "       also returns only one solution:\n",
      " \n",
      "         S =\n",
      "         16\n",
      " \n",
      "    Example 10:\n",
      "       syms x\n",
      "       S = solve(sin(x) == 0) returns 0\n",
      "       \n",
      "       S = solve(sin(x) == 0, 'ReturnConditions', true) returns a structure expressing\n",
      "       the full solution:\n",
      " \n",
      "       S.x = k*pi\n",
      "       S.parameters = k\n",
      "       S.conditions = in(k, 'integer')\n",
      " \n",
      "    Example 11:\n",
      "       syms x y real \n",
      "       [S, params, conditions] = solve(x^(1/2) = y, x, 'ReturnConditions', true)\n",
      "       assigns solution, parameters and conditions to the outputs. \n",
      "       In this example, no new parameters are needed to express the solution:\n",
      "  \n",
      "       S = \n",
      "       y^2\n",
      " \n",
      "       params =\n",
      "       Empty sym: 1-by-0\n",
      "    \n",
      "       conditions =\n",
      "       0 <= y\n",
      " \n",
      "    Example 12:\n",
      "       syms a x y\n",
      "       [x0, y0, params, conditions] = solve(x^2+y, x, y, 'ReturnConditions', true)\n",
      "       generates a new parameter z to express the infinitely many solutions.\n",
      "       This z can be any complex number, both solutions are valid without \n",
      "       restricting conditions:\n",
      "       \n",
      "       x0 =\n",
      "       -(-z)^(1/2)\n",
      "       (-z)^(1/2)\n",
      " \n",
      "       y0 =\n",
      "       z\n",
      "       z\n",
      " \n",
      "       params =\n",
      "       z\n",
      " \n",
      "       conditions =\n",
      "       true\n",
      "       true\n",
      " \n",
      "    Example 13:\n",
      "       syms t positive\n",
      "       solve(t^2-1)\n",
      " \n",
      "         ans =\n",
      "         1\n",
      " \n",
      "       solve(t^2-1, 'IgnoreProperties', true)\n",
      " \n",
      "         ans =\n",
      "           1\n",
      "          -1\n",
      " \n",
      "    Example 14:\n",
      "       solve(x^3-1) returns all three complex roots:\n",
      " \n",
      "         ans =\n",
      "                              1\n",
      "          - 1/2 + (3^(1/2)*i)/2\n",
      "          - 1/2 - (3^(1/2)*i)/2\n",
      " \n",
      "       solve(x^3-1, 'Real', true) only returns the real root:\n",
      " \n",
      "         ans =\n",
      "         1\n",
      " \n",
      "    See also DSOLVE, SUBS.\n",
      "\n",
      "    Documentation for sym/solve\n",
      "       doc sym/solve\n",
      "\n",
      "    Other uses of solve\n",
      "\n",
      "       cgdivexpr/solve     FunctionApproximation.Problem/solve\n",
      "       cgexpr/solve        ode/solve\n",
      "       cgfeature/solve     optim.problemdef.OptimizationProblem/solve\n",
      "       cgsubexpr/solve     pde.femodel/solve\n",
      "       cgvalue/solve       qubo/solve\n",
      "       cgvariable/solve    simscape.multibody.KinematicsSolver/solve\n",
      "       femodel/solve\n",
      "\n"
     ]
    }
   ],
   "source": [
    "help solve "
   ]
  },
  {
   "cell_type": "code",
   "execution_count": 7,
   "id": "d13ac1cf",
   "metadata": {},
   "outputs": [
    {
     "data": {
      "image/png": "[encoded data removed]"
     },
     "execution_count": 7,
     "metadata": {},
     "output_type": "execute_result"
    }
   ],
   "source": [
    "t = 0:0.01:10;\n",
    "\n",
    "plot(t, sin(t), 'r', t, cos(t), 'b', t, -sin(t), 'g', 'LineWidth', 2)\n",
    "legend('f(t)=sin(t)', 'f''(t)=cos(t)', 'f''''(t)=-sin(t)', 'Location', 'best')\n",
    "grid on\n",
    "xlabel('t')\n",
    "ylabel('y')"
   ]
  }
 ],
 "metadata": {
  "kernelspec": {
   "display_name": "MATLAB Kernel",
   "language": "matlab",
   "name": "jupyter_matlab_kernel"
  },
  "language_info": {
   "file_extension": ".m",
   "mimetype": "text/x-matlab",
   "name": "matlab"
  }
 },
 "nbformat": 4,
 "nbformat_minor": 5
}
